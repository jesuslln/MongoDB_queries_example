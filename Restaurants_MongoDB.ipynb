{
  "cells": [
    {
      "cell_type": "markdown",
      "metadata": {
        "id": "F8o4JUVZ1hSP"
      },
      "source": [
        "\n",
        "# 1 Construir un cluster en MongoDB y conectarse.\n"
      ]
    },
    {
      "cell_type": "code",
      "execution_count": null,
      "metadata": {
        "colab": {
          "base_uri": "https://localhost:8080/"
        },
        "id": "syGx26Gr1bee",
        "outputId": "b14ffaf8-9a8d-4cfc-c8c4-91b3979ceaf3"
      },
      "outputs": [
        {
          "name": "stdout",
          "output_type": "stream",
          "text": [
            "Requirement already satisfied: pymongo[srv] in /usr/local/lib/python3.10/dist-packages (4.6.2)\n",
            "Requirement already satisfied: dnspython<3.0.0,>=1.16.0 in /usr/local/lib/python3.10/dist-packages (from pymongo[srv]) (2.6.1)\n"
          ]
        }
      ],
      "source": [
        "!pip install pymongo[srv]"
      ]
    },
    {
      "cell_type": "code",
      "execution_count": null,
      "metadata": {
        "id": "SLPu110R3-XQ"
      },
      "outputs": [],
      "source": [
        "# Import Libraries\n",
        "\n",
        "import pymongo                            # Library to access MongoDB\n",
        "from pymongo import MongoClient           # Imports MongoClient\n",
        "import pandas as pd                       # Library to work with dataframes\n",
        "import folium                             # Library to visualize a map"
      ]
    },
    {
      "cell_type": "code",
      "execution_count": null,
      "metadata": {
        "colab": {
          "base_uri": "https://localhost:8080/"
        },
        "id": "pKAucPn45-Lq",
        "outputId": "7f30c0d6-1935-46fb-d59d-bb8c1a47e69b"
      },
      "outputs": [
        {
          "name": "stdout",
          "output_type": "stream",
          "text": [
            "MongoClient(host=['ac-pjvqtei-shard-00-02.cjkz7i5.mongodb.net:27017', 'ac-pjvqtei-shard-00-01.cjkz7i5.mongodb.net:27017', 'ac-pjvqtei-shard-00-00.cjkz7i5.mongodb.net:27017'], document_class=dict, tz_aware=False, connect=True, retrywrites=True, w='majority', authsource='admin', replicaset='atlas-qwsl4i-shard-0', tls=True)\n"
          ]
        }
      ],
      "source": [
        "\n",
        "uri = \"mongodb+srv://somethingtoconnecttothecluster\"\n",
        "\n",
        "# Create a new client and connect to the server\n",
        "client = MongoClient(uri)\n",
        "\n",
        "print(client)"
      ]
    },
    {
      "cell_type": "code",
      "execution_count": null,
      "metadata": {
        "colab": {
          "base_uri": "https://localhost:8080/"
        },
        "id": "hAUMwVRP3-Sb",
        "outputId": "2d073245-2a0d-492a-f6a2-38be38716b3c"
      },
      "outputs": [
        {
          "data": {
            "text/plain": [
              "['neighborhoods', 'restaurants']"
            ]
          },
          "execution_count": 68,
          "metadata": {},
          "output_type": "execute_result"
        }
      ],
      "source": [
        "db = client.sample_restaurants\n",
        "       # Set the database to work on\n",
        "db.list_collection_names()             # List the collections available\n"
      ]
    },
    {
      "cell_type": "code",
      "execution_count": null,
      "metadata": {
        "id": "jiYeScsI53gE"
      },
      "outputs": [],
      "source": [
        "collection = db.restaurants"
      ]
    },
    {
      "cell_type": "code",
      "execution_count": null,
      "metadata": {
        "colab": {
          "base_uri": "https://localhost:8080/"
        },
        "id": "q68SCqhfBZVg",
        "outputId": "6f6672f6-7794-431c-a45d-b6e4c037b633"
      },
      "outputs": [
        {
          "name": "stdout",
          "output_type": "stream",
          "text": [
            "Number of documents in database = 25359\n"
          ]
        },
        {
          "data": {
            "text/plain": [
              "[{'_id': ObjectId('5eb3d668b31de5d588f4292a'),\n",
              "  'address': {'building': '2780',\n",
              "   'coord': [-73.98241999999999, 40.579505],\n",
              "   'street': 'Stillwell Avenue',\n",
              "   'zipcode': '11224'},\n",
              "  'borough': 'Brooklyn',\n",
              "  'cuisine': 'American',\n",
              "  'grades': [{'date': datetime.datetime(2014, 6, 10, 0, 0),\n",
              "    'grade': 'A',\n",
              "    'score': 5},\n",
              "   {'date': datetime.datetime(2013, 6, 5, 0, 0), 'grade': 'A', 'score': 7},\n",
              "   {'date': datetime.datetime(2012, 4, 13, 0, 0), 'grade': 'A', 'score': 12},\n",
              "   {'date': datetime.datetime(2011, 10, 12, 0, 0), 'grade': 'A', 'score': 12}],\n",
              "  'name': 'Riviera Caterer',\n",
              "  'restaurant_id': '40356018'}]"
            ]
          },
          "execution_count": 70,
          "metadata": {},
          "output_type": "execute_result"
        }
      ],
      "source": [
        "num_documents = collection.count_documents({'_id' : {'$exists' : 1}})\n",
        "print ( 'Number of documents in database = ' + str(num_documents) )\n",
        "list ( collection.find().limit(1) )"
      ]
    },
    {
      "cell_type": "code",
      "execution_count": null,
      "metadata": {
        "colab": {
          "base_uri": "https://localhost:8080/"
        },
        "id": "yk9tZnGeBZTa",
        "outputId": "fca781d8-0433-4e51-83c1-ed8de23955d8"
      },
      "outputs": [
        {
          "data": {
            "text/plain": [
              "['_id', 'address', 'borough', 'cuisine', 'grades', 'name', 'restaurant_id']"
            ]
          },
          "execution_count": 71,
          "metadata": {},
          "output_type": "execute_result"
        }
      ],
      "source": [
        "# Recuperar un documento de la colección y mostrar su estructura\n",
        "documento = collection.find_one()\n",
        "list ( documento )"
      ]
    },
    {
      "cell_type": "code",
      "execution_count": null,
      "metadata": {
        "colab": {
          "base_uri": "https://localhost:8080/"
        },
        "id": "t7dM-BV5BZQ4",
        "outputId": "34e93467-b6b9-4469-c469-996ff27cef4e"
      },
      "outputs": [
        {
          "name": "stdout",
          "output_type": "stream",
          "text": [
            "\n",
            "Tipos de datos de cada variable:\n",
            "\n",
            "_id: <class 'bson.objectid.ObjectId'>\n",
            "address: <class 'dict'>\n",
            "borough: <class 'str'>\n",
            "cuisine: <class 'str'>\n",
            "grades: <class 'list'>\n",
            "name: <class 'str'>\n",
            "restaurant_id: <class 'str'>\n"
          ]
        }
      ],
      "source": [
        "print(\"\\nTipos de datos de cada variable:\")\n",
        "print(\"\")\n",
        "for key, value in documento.items():\n",
        "    print(f\"{key}: {type(value)}\")"
      ]
    },
    {
      "cell_type": "markdown",
      "metadata": {
        "id": "JheiiCYwuEQE"
      },
      "source": [
        "# Queries\n",
        "\n",
        "Tiene sentido con los datos del ejercicio hacer funcionalidades para un búscador de restaurantes. Voy a intentar reproducir algunas queries o filtros que podría querer un usuario en un buscador (Tenedor, Trivago o Maps)."
      ]
    },
    {
      "cell_type": "markdown",
      "metadata": {
        "id": "Q8lXfLc065R1"
      },
      "source": [
        "## Buscar por Cocina"
      ]
    },
    {
      "cell_type": "code",
      "execution_count": null,
      "metadata": {
        "id": "GiPE8-aIBZOx"
      },
      "outputs": [],
      "source": [
        "# Filtrar por cocina\n",
        "def filtrar_cocina(my_input):\n",
        "  cuisine = str(my_input).strip()\n",
        "\n",
        "  result_cocina = collection.aggregate([\n",
        "      {'$match' : {'cuisine' : cuisine}}\n",
        "  ])\n",
        "  return result_cocina"
      ]
    },
    {
      "cell_type": "code",
      "execution_count": null,
      "metadata": {
        "colab": {
          "base_uri": "https://localhost:8080/"
        },
        "id": "A9z9L7gV6nTN",
        "outputId": "5e32db62-76d5-48bf-99d2-aef6c36fea36"
      },
      "outputs": [
        {
          "data": {
            "text/plain": [
              "['Afghan',\n",
              " 'African',\n",
              " 'American',\n",
              " 'Armenian',\n",
              " 'Asian',\n",
              " 'Australian',\n",
              " 'Bagels/Pretzels',\n",
              " 'Bakery',\n",
              " 'Bangladeshi',\n",
              " 'Barbecue',\n",
              " 'Bottled beverages, including water, sodas, juices, etc.',\n",
              " 'Brazilian',\n",
              " 'CafÃ©/Coffee/Tea',\n",
              " 'Café/Coffee/Tea',\n",
              " 'Cajun',\n",
              " 'Californian',\n",
              " 'Caribbean',\n",
              " 'Chicken',\n",
              " 'Chilean',\n",
              " 'Chinese',\n",
              " 'Chinese/Cuban',\n",
              " 'Chinese/Japanese',\n",
              " 'Continental',\n",
              " 'Creole',\n",
              " 'Creole/Cajun',\n",
              " 'Czech',\n",
              " 'Delicatessen',\n",
              " 'Donuts',\n",
              " 'Eastern European',\n",
              " 'Egyptian',\n",
              " 'English',\n",
              " 'Ethiopian',\n",
              " 'Filipino',\n",
              " 'French',\n",
              " 'Fruits/Vegetables',\n",
              " 'German',\n",
              " 'Greek',\n",
              " 'Hamburgers',\n",
              " 'Hawaiian',\n",
              " 'Hotdogs',\n",
              " 'Hotdogs/Pretzels',\n",
              " 'Ice Cream, Gelato, Yogurt, Ices',\n",
              " 'Indian',\n",
              " 'Indonesian',\n",
              " 'Iranian',\n",
              " 'Irish',\n",
              " 'Italian',\n",
              " 'Japanese',\n",
              " 'Jewish/Kosher',\n",
              " 'Juice, Smoothies, Fruit Salads',\n",
              " 'Korean',\n",
              " 'Latin (Cuban, Dominican, Puerto Rican, South & Central American)',\n",
              " 'Mediterranean',\n",
              " 'Mexican',\n",
              " 'Middle Eastern',\n",
              " 'Moroccan',\n",
              " 'Not Listed/Not Applicable',\n",
              " 'Nuts/Confectionary',\n",
              " 'Other',\n",
              " 'Pakistani',\n",
              " 'Pancakes/Waffles',\n",
              " 'Peruvian',\n",
              " 'Pizza',\n",
              " 'Pizza/Italian',\n",
              " 'Polish',\n",
              " 'Polynesian',\n",
              " 'Portuguese',\n",
              " 'Russian',\n",
              " 'Salads',\n",
              " 'Sandwiches',\n",
              " 'Sandwiches/Salads/Mixed Buffet',\n",
              " 'Scandinavian',\n",
              " 'Seafood',\n",
              " 'Soul Food',\n",
              " 'Soups',\n",
              " 'Soups & Sandwiches',\n",
              " 'Southwestern',\n",
              " 'Spanish',\n",
              " 'Steak',\n",
              " 'Tapas',\n",
              " 'Tex-Mex',\n",
              " 'Thai',\n",
              " 'Turkish',\n",
              " 'Vegetarian',\n",
              " 'Vietnamese/Cambodian/Malaysia']"
            ]
          },
          "execution_count": 74,
          "metadata": {},
          "output_type": "execute_result"
        }
      ],
      "source": [
        "collection.distinct('cuisine')"
      ]
    },
    {
      "cell_type": "code",
      "execution_count": null,
      "metadata": {
        "colab": {
          "base_uri": "https://localhost:8080/"
        },
        "id": "vdQrnI8jBZMV",
        "outputId": "7490fc08-aa9f-4ee9-9337-58300f6608bd"
      },
      "outputs": [
        {
          "name": "stdout",
          "output_type": "stream",
          "text": [
            "Number of documents in the result = 637 vs number of docs in the original database => 25359\n"
          ]
        },
        {
          "data": {
            "text/plain": [
              "_id                                       5eb3d668b31de5d588f4299b\n",
              "address          {'building': '113', 'coord': [-73.9979214, 40....\n",
              "borough                                                  Manhattan\n",
              "cuisine                                                    Spanish\n",
              "grades           [{'date': 2014-07-25 00:00:00, 'grade': 'A', '...\n",
              "name                                        Spain Restaurant & Bar\n",
              "restaurant_id                                             40365472\n",
              "Name: 0, dtype: object"
            ]
          },
          "execution_count": 75,
          "metadata": {},
          "output_type": "execute_result"
        }
      ],
      "source": [
        "# Test sencillo de filtrar_cocina\n",
        "\n",
        "test_result = filtrar_cocina('Spanish')\n",
        "\n",
        "df_result = pd.DataFrame(test_result)\n",
        "num_documents_test = df_result.shape[0]\n",
        "\n",
        "print ( 'Number of documents in the result = ' + str(num_documents_test) + ' vs number of docs in the original database => ' + str(num_documents))\n",
        "\n",
        "df_result.iloc[0]"
      ]
    },
    {
      "cell_type": "markdown",
      "metadata": {
        "id": "yRTpUsWwSvWI"
      },
      "source": [
        "\n",
        "<br>"
      ]
    },
    {
      "cell_type": "markdown",
      "metadata": {
        "id": "auT6oBql693O"
      },
      "source": [
        "## Buscar por Valoración\n",
        "Primero vemos los posibles valores del dataset"
      ]
    },
    {
      "cell_type": "code",
      "execution_count": null,
      "metadata": {
        "colab": {
          "base_uri": "https://localhost:8080/"
        },
        "id": "HYuCpkNGBZHN",
        "outputId": "25ed547c-89e4-4d9f-f9e7-cb092c9cc509"
      },
      "outputs": [
        {
          "name": "stdout",
          "output_type": "stream",
          "text": [
            "Unique Grades: {'Not Yet Graded', 'P', 'Z', 'B', 'C', 'A'}\n",
            "Unique Scores: {0, 2, 3, 4, 5, 6, 7, 8, 9, 10, 11, 12, 13, 14, 15, 16, 17, 18, 19, 20, 21, 22, 23, 24, 25, 26, 27, 28, 29, 30, 31, 32, 33, 34, 35, 36, 37, 38, 39, 40, 41, 42, 43, 44, 45, 46, 47, 48, 49, 50, 51, 52, 53, 54, 55, 56, 57, 58, 59, 60, 61, 62, 63, 64, 65, 66, 67, 68, None, 70, 71, 69, 73, 75, 76, 77, 78, 79, 80, 81, 82, 84, 86, 89, 90, 92, 98, 131, -1}\n"
          ]
        }
      ],
      "source": [
        "unique_grades = set()\n",
        "unique_scores = set()\n",
        "\n",
        "for item in collection.find():\n",
        "    grades = [grade[\"grade\"] for grade in item.get(\"grades\", [])]\n",
        "    scores = [grade[\"score\"] for grade in item.get(\"grades\", [])]\n",
        "\n",
        "    unique_grades |= set(grades)\n",
        "    unique_scores |= set(scores)\n",
        "\n",
        "print(\"Unique Grades:\", unique_grades)\n",
        "print(\"Unique Scores:\", unique_scores)"
      ]
    },
    {
      "cell_type": "markdown",
      "metadata": {
        "id": "Gq5vyuBh8oQD"
      },
      "source": [
        "Aquí parece que las letras están puestas un poco al azar y no se entiendo que significado tiene la 'Z' o la 'P'. Para aclararlo vamos a hacer una query que nos devuelva el valor medio, el mínimo y el máximo para cada letra."
      ]
    },
    {
      "cell_type": "code",
      "execution_count": null,
      "metadata": {
        "colab": {
          "base_uri": "https://localhost:8080/"
        },
        "id": "_xDoTOi4BZAM",
        "outputId": "eccdc44c-e350-47b6-e05a-880caf2ab601"
      },
      "outputs": [
        {
          "name": "stdout",
          "output_type": "stream",
          "text": [
            "            grade        avg  min  max\n",
            "0  Not Yet Graded  15.853516    0   75\n",
            "  grade       avg  min  max\n",
            "0     P  5.506266    0   43\n",
            "  grade        avg  min  max\n",
            "0     Z  23.702319   -1   71\n",
            "  grade       avg  min  max\n",
            "0     B  20.00246   -1   57\n",
            "  grade        avg  min  max\n",
            "0     C  30.700795   -1  131\n",
            "  grade       avg  min  max\n",
            "0     A  9.021954    0   27\n"
          ]
        }
      ],
      "source": [
        "for g in unique_grades:\n",
        "\n",
        "  result = collection.aggregate([\n",
        "        {'$unwind' : '$grades'},\n",
        "        {'$project' : {'_id' : 1, 'grade' : '$grades.grade', 'score' : '$grades.score'}},\n",
        "        {'$match' : {'grade' : g}},\n",
        "        {'$group' : {'_id' : '$grade', 'avg' : {'$avg' : '$score'}, 'min' : {'$min' : '$score'}, 'max' : {'$max' : '$score'}}},\n",
        "        {'$project' : {'_id' : 0, 'grade' : '$_id', 'avg' : '$avg', 'min' : '$min', 'max' : '$max'}}\n",
        "    ])\n",
        "\n",
        "  df = pd.DataFrame(result)\n",
        "  print(df)"
      ]
    },
    {
      "cell_type": "markdown",
      "metadata": {
        "id": "W-lvwphIDcXm"
      },
      "source": [
        "Vamos a filtrar los valores de score -1"
      ]
    },
    {
      "cell_type": "code",
      "execution_count": null,
      "metadata": {
        "colab": {
          "base_uri": "https://localhost:8080/"
        },
        "id": "_O5zxHNQBY05",
        "outputId": "1c673fa0-7df0-45f6-ffec-08d93ff189c2"
      },
      "outputs": [
        {
          "name": "stdout",
          "output_type": "stream",
          "text": [
            "            grade        avg  min  max\n",
            "0  Not Yet Graded  15.853516    0   75\n",
            "  grade       avg  min  max\n",
            "0     P  5.506266    0   43\n",
            "  grade        avg  min  max\n",
            "0     Z  23.739326    0   71\n",
            "  grade        avg  min  max\n",
            "0     B  20.017469    0   57\n",
            "  grade        avg  min  max\n",
            "0     C  30.720967    0  131\n",
            "  grade       avg  min  max\n",
            "0     A  9.021954    0   27\n"
          ]
        }
      ],
      "source": [
        "for g in unique_grades:\n",
        "\n",
        "  result = collection.aggregate([\n",
        "        {'$unwind' : '$grades'},\n",
        "        {'$project' : {'_id' : 1, 'grade' : '$grades.grade', 'score' : '$grades.score'}},\n",
        "        {'$match' : {'grade' : g, 'score' :{'$ne' : -1}}},\n",
        "        {'$group' : {'_id' : '$grade', 'avg' : {'$avg' : '$score'}, 'min' : {'$min' : '$score'}, 'max' : {'$max' : '$score'}}},\n",
        "        {'$project' : {'_id' : 0, 'grade' : '$_id', 'avg' : '$avg', 'min' : '$min', 'max' : '$max'}}\n",
        "    ])\n",
        "\n",
        "  df = pd.DataFrame(result)\n",
        "  print(df)"
      ]
    },
    {
      "cell_type": "markdown",
      "metadata": {
        "id": "5-gFdJnREIoe"
      },
      "source": [
        "Es evidente que es mejor guiarse por los Score y no por las letras de la variable Grades. Aunque, podemos ver por la media de los grupos que las letras A y P contienen los grupos más bajos y el C es el grupo con valor más altos de media.\n",
        "\n",
        " Otra cosa a tener en cuenta es que hay scores mayores de 100 que no ayudan a una valoración coherente de los datos. Habría que normalizar los datos para que fueran más facilmente visualizables y comparables. Esto lo dejo como anotación y trabajo recomendado para la implementación del buscador, puesto que, aquí solo me centraré en la parte relacionada con el motor de búsqueda."
      ]
    },
    {
      "cell_type": "code",
      "execution_count": null,
      "metadata": {
        "colab": {
          "base_uri": "https://localhost:8080/"
        },
        "id": "almmKL-KPSNq",
        "outputId": "5b5e9379-1842-4a44-8215-c6798e7a3387"
      },
      "outputs": [
        {
          "name": "stdout",
          "output_type": "stream",
          "text": [
            "                         _id  avg_score\n",
            "0        Juice It Health Bar       75.0\n",
            "1      Golden Dragon Cuisine       73.0\n",
            "2    Chelsea'S Juice Factory       69.0\n",
            "3        Palombo Pastry Shop       69.0\n",
            "4                      Koyla       61.0\n",
            "5         K & D Internet Inc       61.0\n",
            "6           Ivory D O S  Inc       60.0\n",
            "7        Ab Halal Restaurant       58.0\n",
            "8                     Espace       56.0\n",
            "9  Wing Hing Chinese Cuisine       56.0\n"
          ]
        },
        {
          "data": {
            "text/plain": [
              "(10, 2)"
            ]
          },
          "execution_count": 79,
          "metadata": {},
          "output_type": "execute_result"
        }
      ],
      "source": [
        "result_valoracion = collection.aggregate([\n",
        "      {'$unwind' : '$grades'},\n",
        "      {'$group' : {'_id' : '$name', 'avg_score' : {'$avg' : '$grades.score'}}},\n",
        "      {'$sort' : {'avg_score' : -1}},\n",
        "      {'$limit' : 10}\n",
        "  ])\n",
        "\n",
        "df_result = pd.DataFrame(result_valoracion)\n",
        "print(df_result)\n",
        "df_result.shape"
      ]
    },
    {
      "cell_type": "markdown",
      "metadata": {
        "id": "yDsV4CyfTB6i"
      },
      "source": [
        "#### Ahora creamos una funcion para devolver los top n sitios por valoración media\n",
        "\n"
      ]
    },
    {
      "cell_type": "code",
      "execution_count": null,
      "metadata": {
        "id": "gJ0siMgWTNsn"
      },
      "outputs": [],
      "source": [
        "def top_restaurantes(my_input):\n",
        "  n = int(my_input)\n",
        "\n",
        "  result_restaurantes = collection.aggregate([\n",
        "      {'$unwind' : '$grades'},\n",
        "      {'$group' : {'_id' : '$name', 'avg_score' : {'$avg' : '$grades.score'}}},\n",
        "      {'$sort' : {'avg_score' : -1}},\n",
        "      {'$limit' : n}\n",
        "  ])\n",
        "  return result_restaurantes"
      ]
    },
    {
      "cell_type": "code",
      "execution_count": null,
      "metadata": {
        "colab": {
          "base_uri": "https://localhost:8080/",
          "height": 206
        },
        "id": "o9RjsERBVIdX",
        "outputId": "8d7a33e5-9ec5-47ee-f993-4a7ec9e32afe"
      },
      "outputs": [
        {
          "data": {
            "application/vnd.google.colaboratory.intrinsic+json": {
              "summary": "{\n  \"name\": \"df_result\",\n  \"rows\": 5,\n  \"fields\": [\n    {\n      \"column\": \"_id\",\n      \"properties\": {\n        \"dtype\": \"string\",\n        \"num_unique_values\": 5,\n        \"samples\": [\n          \"Golden Dragon Cuisine\",\n          \"Koyla\",\n          \"Chelsea'S Juice Factory\"\n        ],\n        \"semantic_type\": \"\",\n        \"description\": \"\"\n      }\n    },\n    {\n      \"column\": \"avg_score\",\n      \"properties\": {\n        \"dtype\": \"number\",\n        \"std\": 5.366563145999495,\n        \"min\": 61.0,\n        \"max\": 75.0,\n        \"num_unique_values\": 4,\n        \"samples\": [\n          73.0,\n          61.0,\n          75.0\n        ],\n        \"semantic_type\": \"\",\n        \"description\": \"\"\n      }\n    }\n  ]\n}",
              "type": "dataframe",
              "variable_name": "df_result"
            },
            "text/html": [
              "\n",
              "  <div id=\"df-4a00e32d-a53a-4ec7-ac0a-1202a3b6bc77\" class=\"colab-df-container\">\n",
              "    <div>\n",
              "<style scoped>\n",
              "    .dataframe tbody tr th:only-of-type {\n",
              "        vertical-align: middle;\n",
              "    }\n",
              "\n",
              "    .dataframe tbody tr th {\n",
              "        vertical-align: top;\n",
              "    }\n",
              "\n",
              "    .dataframe thead th {\n",
              "        text-align: right;\n",
              "    }\n",
              "</style>\n",
              "<table border=\"1\" class=\"dataframe\">\n",
              "  <thead>\n",
              "    <tr style=\"text-align: right;\">\n",
              "      <th></th>\n",
              "      <th>_id</th>\n",
              "      <th>avg_score</th>\n",
              "    </tr>\n",
              "  </thead>\n",
              "  <tbody>\n",
              "    <tr>\n",
              "      <th>0</th>\n",
              "      <td>Juice It Health Bar</td>\n",
              "      <td>75.0</td>\n",
              "    </tr>\n",
              "    <tr>\n",
              "      <th>1</th>\n",
              "      <td>Golden Dragon Cuisine</td>\n",
              "      <td>73.0</td>\n",
              "    </tr>\n",
              "    <tr>\n",
              "      <th>2</th>\n",
              "      <td>Chelsea'S Juice Factory</td>\n",
              "      <td>69.0</td>\n",
              "    </tr>\n",
              "    <tr>\n",
              "      <th>3</th>\n",
              "      <td>Palombo Pastry Shop</td>\n",
              "      <td>69.0</td>\n",
              "    </tr>\n",
              "    <tr>\n",
              "      <th>4</th>\n",
              "      <td>Koyla</td>\n",
              "      <td>61.0</td>\n",
              "    </tr>\n",
              "  </tbody>\n",
              "</table>\n",
              "</div>\n",
              "    <div class=\"colab-df-buttons\">\n",
              "\n",
              "  <div class=\"colab-df-container\">\n",
              "    <button class=\"colab-df-convert\" onclick=\"convertToInteractive('df-4a00e32d-a53a-4ec7-ac0a-1202a3b6bc77')\"\n",
              "            title=\"Convert this dataframe to an interactive table.\"\n",
              "            style=\"display:none;\">\n",
              "\n",
              "  <svg xmlns=\"http://www.w3.org/2000/svg\" height=\"24px\" viewBox=\"0 -960 960 960\">\n",
              "    <path d=\"M120-120v-720h720v720H120Zm60-500h600v-160H180v160Zm220 220h160v-160H400v160Zm0 220h160v-160H400v160ZM180-400h160v-160H180v160Zm440 0h160v-160H620v160ZM180-180h160v-160H180v160Zm440 0h160v-160H620v160Z\"/>\n",
              "  </svg>\n",
              "    </button>\n",
              "\n",
              "  <style>\n",
              "    .colab-df-container {\n",
              "      display:flex;\n",
              "      gap: 12px;\n",
              "    }\n",
              "\n",
              "    .colab-df-convert {\n",
              "      background-color: #E8F0FE;\n",
              "      border: none;\n",
              "      border-radius: 50%;\n",
              "      cursor: pointer;\n",
              "      display: none;\n",
              "      fill: #1967D2;\n",
              "      height: 32px;\n",
              "      padding: 0 0 0 0;\n",
              "      width: 32px;\n",
              "    }\n",
              "\n",
              "    .colab-df-convert:hover {\n",
              "      background-color: #E2EBFA;\n",
              "      box-shadow: 0px 1px 2px rgba(60, 64, 67, 0.3), 0px 1px 3px 1px rgba(60, 64, 67, 0.15);\n",
              "      fill: #174EA6;\n",
              "    }\n",
              "\n",
              "    .colab-df-buttons div {\n",
              "      margin-bottom: 4px;\n",
              "    }\n",
              "\n",
              "    [theme=dark] .colab-df-convert {\n",
              "      background-color: #3B4455;\n",
              "      fill: #D2E3FC;\n",
              "    }\n",
              "\n",
              "    [theme=dark] .colab-df-convert:hover {\n",
              "      background-color: #434B5C;\n",
              "      box-shadow: 0px 1px 3px 1px rgba(0, 0, 0, 0.15);\n",
              "      filter: drop-shadow(0px 1px 2px rgba(0, 0, 0, 0.3));\n",
              "      fill: #FFFFFF;\n",
              "    }\n",
              "  </style>\n",
              "\n",
              "    <script>\n",
              "      const buttonEl =\n",
              "        document.querySelector('#df-4a00e32d-a53a-4ec7-ac0a-1202a3b6bc77 button.colab-df-convert');\n",
              "      buttonEl.style.display =\n",
              "        google.colab.kernel.accessAllowed ? 'block' : 'none';\n",
              "\n",
              "      async function convertToInteractive(key) {\n",
              "        const element = document.querySelector('#df-4a00e32d-a53a-4ec7-ac0a-1202a3b6bc77');\n",
              "        const dataTable =\n",
              "          await google.colab.kernel.invokeFunction('convertToInteractive',\n",
              "                                                    [key], {});\n",
              "        if (!dataTable) return;\n",
              "\n",
              "        const docLinkHtml = 'Like what you see? Visit the ' +\n",
              "          '<a target=\"_blank\" href=https://colab.research.google.com/notebooks/data_table.ipynb>data table notebook</a>'\n",
              "          + ' to learn more about interactive tables.';\n",
              "        element.innerHTML = '';\n",
              "        dataTable['output_type'] = 'display_data';\n",
              "        await google.colab.output.renderOutput(dataTable, element);\n",
              "        const docLink = document.createElement('div');\n",
              "        docLink.innerHTML = docLinkHtml;\n",
              "        element.appendChild(docLink);\n",
              "      }\n",
              "    </script>\n",
              "  </div>\n",
              "\n",
              "\n",
              "<div id=\"df-91fc9912-cee0-4e8e-a5c6-22e91995d660\">\n",
              "  <button class=\"colab-df-quickchart\" onclick=\"quickchart('df-91fc9912-cee0-4e8e-a5c6-22e91995d660')\"\n",
              "            title=\"Suggest charts\"\n",
              "            style=\"display:none;\">\n",
              "\n",
              "<svg xmlns=\"http://www.w3.org/2000/svg\" height=\"24px\"viewBox=\"0 0 24 24\"\n",
              "     width=\"24px\">\n",
              "    <g>\n",
              "        <path d=\"M19 3H5c-1.1 0-2 .9-2 2v14c0 1.1.9 2 2 2h14c1.1 0 2-.9 2-2V5c0-1.1-.9-2-2-2zM9 17H7v-7h2v7zm4 0h-2V7h2v10zm4 0h-2v-4h2v4z\"/>\n",
              "    </g>\n",
              "</svg>\n",
              "  </button>\n",
              "\n",
              "<style>\n",
              "  .colab-df-quickchart {\n",
              "      --bg-color: #E8F0FE;\n",
              "      --fill-color: #1967D2;\n",
              "      --hover-bg-color: #E2EBFA;\n",
              "      --hover-fill-color: #174EA6;\n",
              "      --disabled-fill-color: #AAA;\n",
              "      --disabled-bg-color: #DDD;\n",
              "  }\n",
              "\n",
              "  [theme=dark] .colab-df-quickchart {\n",
              "      --bg-color: #3B4455;\n",
              "      --fill-color: #D2E3FC;\n",
              "      --hover-bg-color: #434B5C;\n",
              "      --hover-fill-color: #FFFFFF;\n",
              "      --disabled-bg-color: #3B4455;\n",
              "      --disabled-fill-color: #666;\n",
              "  }\n",
              "\n",
              "  .colab-df-quickchart {\n",
              "    background-color: var(--bg-color);\n",
              "    border: none;\n",
              "    border-radius: 50%;\n",
              "    cursor: pointer;\n",
              "    display: none;\n",
              "    fill: var(--fill-color);\n",
              "    height: 32px;\n",
              "    padding: 0;\n",
              "    width: 32px;\n",
              "  }\n",
              "\n",
              "  .colab-df-quickchart:hover {\n",
              "    background-color: var(--hover-bg-color);\n",
              "    box-shadow: 0 1px 2px rgba(60, 64, 67, 0.3), 0 1px 3px 1px rgba(60, 64, 67, 0.15);\n",
              "    fill: var(--button-hover-fill-color);\n",
              "  }\n",
              "\n",
              "  .colab-df-quickchart-complete:disabled,\n",
              "  .colab-df-quickchart-complete:disabled:hover {\n",
              "    background-color: var(--disabled-bg-color);\n",
              "    fill: var(--disabled-fill-color);\n",
              "    box-shadow: none;\n",
              "  }\n",
              "\n",
              "  .colab-df-spinner {\n",
              "    border: 2px solid var(--fill-color);\n",
              "    border-color: transparent;\n",
              "    border-bottom-color: var(--fill-color);\n",
              "    animation:\n",
              "      spin 1s steps(1) infinite;\n",
              "  }\n",
              "\n",
              "  @keyframes spin {\n",
              "    0% {\n",
              "      border-color: transparent;\n",
              "      border-bottom-color: var(--fill-color);\n",
              "      border-left-color: var(--fill-color);\n",
              "    }\n",
              "    20% {\n",
              "      border-color: transparent;\n",
              "      border-left-color: var(--fill-color);\n",
              "      border-top-color: var(--fill-color);\n",
              "    }\n",
              "    30% {\n",
              "      border-color: transparent;\n",
              "      border-left-color: var(--fill-color);\n",
              "      border-top-color: var(--fill-color);\n",
              "      border-right-color: var(--fill-color);\n",
              "    }\n",
              "    40% {\n",
              "      border-color: transparent;\n",
              "      border-right-color: var(--fill-color);\n",
              "      border-top-color: var(--fill-color);\n",
              "    }\n",
              "    60% {\n",
              "      border-color: transparent;\n",
              "      border-right-color: var(--fill-color);\n",
              "    }\n",
              "    80% {\n",
              "      border-color: transparent;\n",
              "      border-right-color: var(--fill-color);\n",
              "      border-bottom-color: var(--fill-color);\n",
              "    }\n",
              "    90% {\n",
              "      border-color: transparent;\n",
              "      border-bottom-color: var(--fill-color);\n",
              "    }\n",
              "  }\n",
              "</style>\n",
              "\n",
              "  <script>\n",
              "    async function quickchart(key) {\n",
              "      const quickchartButtonEl =\n",
              "        document.querySelector('#' + key + ' button');\n",
              "      quickchartButtonEl.disabled = true;  // To prevent multiple clicks.\n",
              "      quickchartButtonEl.classList.add('colab-df-spinner');\n",
              "      try {\n",
              "        const charts = await google.colab.kernel.invokeFunction(\n",
              "            'suggestCharts', [key], {});\n",
              "      } catch (error) {\n",
              "        console.error('Error during call to suggestCharts:', error);\n",
              "      }\n",
              "      quickchartButtonEl.classList.remove('colab-df-spinner');\n",
              "      quickchartButtonEl.classList.add('colab-df-quickchart-complete');\n",
              "    }\n",
              "    (() => {\n",
              "      let quickchartButtonEl =\n",
              "        document.querySelector('#df-91fc9912-cee0-4e8e-a5c6-22e91995d660 button');\n",
              "      quickchartButtonEl.style.display =\n",
              "        google.colab.kernel.accessAllowed ? 'block' : 'none';\n",
              "    })();\n",
              "  </script>\n",
              "</div>\n",
              "    </div>\n",
              "  </div>\n"
            ],
            "text/plain": [
              "                       _id  avg_score\n",
              "0      Juice It Health Bar       75.0\n",
              "1    Golden Dragon Cuisine       73.0\n",
              "2  Chelsea'S Juice Factory       69.0\n",
              "3      Palombo Pastry Shop       69.0\n",
              "4                    Koyla       61.0"
            ]
          },
          "execution_count": 81,
          "metadata": {},
          "output_type": "execute_result"
        }
      ],
      "source": [
        "## Simple test\n",
        "test_result = top_restaurantes(5)\n",
        "\n",
        "df_result = pd.DataFrame(test_result)\n",
        "df_result"
      ]
    },
    {
      "cell_type": "markdown",
      "metadata": {
        "id": "ga8B_aaWEm7v"
      },
      "source": [
        "<br>"
      ]
    },
    {
      "cell_type": "markdown",
      "metadata": {
        "id": "pyvRQ000RFkr"
      },
      "source": [
        "### Buscar por Municipio - Borough"
      ]
    },
    {
      "cell_type": "code",
      "execution_count": null,
      "metadata": {
        "id": "3QwEkPDLIv1z"
      },
      "outputs": [],
      "source": [
        "# Filtrar por Municipio\n",
        "def filtrar_municipio(my_input):\n",
        "  municipio = str(my_input).strip()\n",
        "\n",
        "  result_municipio = collection.aggregate([\n",
        "      {'$match' : {'borough' : municipio}}\n",
        "  ])\n",
        "  return result_municipio"
      ]
    },
    {
      "cell_type": "code",
      "execution_count": null,
      "metadata": {
        "colab": {
          "base_uri": "https://localhost:8080/"
        },
        "id": "JNT_HV8qR7vY",
        "outputId": "32d7656a-6685-44f4-8288-4aee63feabcf"
      },
      "outputs": [
        {
          "data": {
            "text/plain": [
              "['Bronx', 'Brooklyn', 'Manhattan', 'Missing', 'Queens', 'Staten Island']"
            ]
          },
          "execution_count": 83,
          "metadata": {},
          "output_type": "execute_result"
        }
      ],
      "source": [
        "collection.distinct('borough')"
      ]
    },
    {
      "cell_type": "code",
      "execution_count": null,
      "metadata": {
        "colab": {
          "base_uri": "https://localhost:8080/"
        },
        "id": "iXqVNbsnSNvU",
        "outputId": "cd434263-4c7e-4b80-8c7c-0a1d0e6c9926"
      },
      "outputs": [
        {
          "name": "stdout",
          "output_type": "stream",
          "text": [
            "Number of documents in the result = 5656 vs number of docs in the original database => 25359\n"
          ]
        },
        {
          "data": {
            "text/plain": [
              "_id                                       5eb3d668b31de5d588f4292f\n",
              "address          {'building': '97-22', 'coord': [-73.8601152, 4...\n",
              "borough                                                     Queens\n",
              "cuisine                                              Jewish/Kosher\n",
              "grades           [{'date': 2014-11-24 00:00:00, 'grade': 'Z', '...\n",
              "name                                            Tov Kosher Kitchen\n",
              "restaurant_id                                             40356068\n",
              "Name: 0, dtype: object"
            ]
          },
          "execution_count": 84,
          "metadata": {},
          "output_type": "execute_result"
        }
      ],
      "source": [
        "# Test sencillo de filtrar_municipio\n",
        "\n",
        "test_result = filtrar_municipio('Queens')\n",
        "\n",
        "df_result = pd.DataFrame(test_result)\n",
        "num_documents_test = df_result.shape[0]\n",
        "\n",
        "print ( 'Number of documents in the result = ' + str(num_documents_test) + ' vs number of docs in the original database => ' + str(num_documents))\n",
        "\n",
        "df_result.iloc[0]"
      ]
    },
    {
      "cell_type": "markdown",
      "metadata": {
        "id": "CXZbY8ziSW7j"
      },
      "source": [
        "# Creamos un buscador\n",
        "\n",
        "Creamos un buscador que filtra por municipio y cocina. Luego devuelve los n restaurantes mejor valorados que cumplan esos filtros"
      ]
    },
    {
      "cell_type": "code",
      "execution_count": null,
      "metadata": {
        "id": "6RclPkuHTvvp"
      },
      "outputs": [],
      "source": [
        "import random as rd"
      ]
    },
    {
      "cell_type": "markdown",
      "metadata": {
        "id": "53NiryDBBv3Z"
      },
      "source": [
        "### Unimos todas las funciones en una"
      ]
    },
    {
      "cell_type": "code",
      "execution_count": null,
      "metadata": {
        "id": "Zu5yMduTB1tV"
      },
      "outputs": [],
      "source": [
        "def top_restaurant_byCocina_byMunicipio(m, c, n):\n",
        "  #####\n",
        "  # 1 -> filtra por Municipio (m)\n",
        "  # 2 -> filtra por Conicna (c)\n",
        "  # 3 -> Saca el las (n) opciones con más valoración media\n",
        "\n",
        "  m = str(m).strip()\n",
        "  c = str(c).strip()\n",
        "  n = int(n)\n",
        "\n",
        "\n",
        "\n",
        "  result_final = collection.aggregate([\n",
        "      {'$match' : {'borough' : m}},\n",
        "      {'$match' : {'cuisine' : c}},\n",
        "      {'$unwind' : '$grades'},\n",
        "      {'$group' : {'_id' : '$name', 'avg_score' : {'$avg' : '$grades.score'}}},\n",
        "      {'$sort' : {'avg_score' : -1}},\n",
        "      {'$limit' : n}\n",
        "  ])\n",
        "\n",
        "  return result_final\n"
      ]
    },
    {
      "cell_type": "code",
      "execution_count": null,
      "metadata": {
        "id": "Y5n9IXKZSqmp"
      },
      "outputs": [],
      "source": [
        "municipios = collection.distinct('borough')\n",
        "cocina = collection.distinct('cuisine')"
      ]
    },
    {
      "cell_type": "code",
      "execution_count": null,
      "metadata": {
        "colab": {
          "base_uri": "https://localhost:8080/",
          "height": 198
        },
        "id": "-d5nIMBZUaTB",
        "outputId": "8720dd93-fa5a-4199-cc1c-47fd7ade4441"
      },
      "outputs": [
        {
          "name": "stdout",
          "output_type": "stream",
          "text": [
            "My Borough choice is : Bronx\n",
            "My Cuisie choice is : Jewish/Kosher\n",
            "Queremos el top 3 de los restaurantes\n"
          ]
        },
        {
          "data": {
            "application/vnd.google.colaboratory.intrinsic+json": {
              "summary": "{\n  \"name\": \"df_result\",\n  \"rows\": 3,\n  \"fields\": [\n    {\n      \"column\": \"_id\",\n      \"properties\": {\n        \"dtype\": \"string\",\n        \"num_unique_values\": 3,\n        \"samples\": [\n          \"Block Pizza\",\n          \"Gruenebaum'S Bakery &Cafe\",\n          \"Delicious On Lydig\"\n        ],\n        \"semantic_type\": \"\",\n        \"description\": \"\"\n      }\n    },\n    {\n      \"column\": \"avg_score\",\n      \"properties\": {\n        \"dtype\": \"number\",\n        \"std\": 1.7797471730557681,\n        \"min\": 12.8,\n        \"max\": 16.0,\n        \"num_unique_values\": 3,\n        \"samples\": [\n          16.0,\n          15.75,\n          12.8\n        ],\n        \"semantic_type\": \"\",\n        \"description\": \"\"\n      }\n    }\n  ]\n}",
              "type": "dataframe",
              "variable_name": "df_result"
            },
            "text/html": [
              "\n",
              "  <div id=\"df-e4c02a32-fc5f-4b94-8bcb-5794246d1ce6\" class=\"colab-df-container\">\n",
              "    <div>\n",
              "<style scoped>\n",
              "    .dataframe tbody tr th:only-of-type {\n",
              "        vertical-align: middle;\n",
              "    }\n",
              "\n",
              "    .dataframe tbody tr th {\n",
              "        vertical-align: top;\n",
              "    }\n",
              "\n",
              "    .dataframe thead th {\n",
              "        text-align: right;\n",
              "    }\n",
              "</style>\n",
              "<table border=\"1\" class=\"dataframe\">\n",
              "  <thead>\n",
              "    <tr style=\"text-align: right;\">\n",
              "      <th></th>\n",
              "      <th>_id</th>\n",
              "      <th>avg_score</th>\n",
              "    </tr>\n",
              "  </thead>\n",
              "  <tbody>\n",
              "    <tr>\n",
              "      <th>0</th>\n",
              "      <td>Block Pizza</td>\n",
              "      <td>16.00</td>\n",
              "    </tr>\n",
              "    <tr>\n",
              "      <th>1</th>\n",
              "      <td>Gruenebaum'S Bakery &amp;Cafe</td>\n",
              "      <td>15.75</td>\n",
              "    </tr>\n",
              "    <tr>\n",
              "      <th>2</th>\n",
              "      <td>Delicious On Lydig</td>\n",
              "      <td>12.80</td>\n",
              "    </tr>\n",
              "  </tbody>\n",
              "</table>\n",
              "</div>\n",
              "    <div class=\"colab-df-buttons\">\n",
              "\n",
              "  <div class=\"colab-df-container\">\n",
              "    <button class=\"colab-df-convert\" onclick=\"convertToInteractive('df-e4c02a32-fc5f-4b94-8bcb-5794246d1ce6')\"\n",
              "            title=\"Convert this dataframe to an interactive table.\"\n",
              "            style=\"display:none;\">\n",
              "\n",
              "  <svg xmlns=\"http://www.w3.org/2000/svg\" height=\"24px\" viewBox=\"0 -960 960 960\">\n",
              "    <path d=\"M120-120v-720h720v720H120Zm60-500h600v-160H180v160Zm220 220h160v-160H400v160Zm0 220h160v-160H400v160ZM180-400h160v-160H180v160Zm440 0h160v-160H620v160ZM180-180h160v-160H180v160Zm440 0h160v-160H620v160Z\"/>\n",
              "  </svg>\n",
              "    </button>\n",
              "\n",
              "  <style>\n",
              "    .colab-df-container {\n",
              "      display:flex;\n",
              "      gap: 12px;\n",
              "    }\n",
              "\n",
              "    .colab-df-convert {\n",
              "      background-color: #E8F0FE;\n",
              "      border: none;\n",
              "      border-radius: 50%;\n",
              "      cursor: pointer;\n",
              "      display: none;\n",
              "      fill: #1967D2;\n",
              "      height: 32px;\n",
              "      padding: 0 0 0 0;\n",
              "      width: 32px;\n",
              "    }\n",
              "\n",
              "    .colab-df-convert:hover {\n",
              "      background-color: #E2EBFA;\n",
              "      box-shadow: 0px 1px 2px rgba(60, 64, 67, 0.3), 0px 1px 3px 1px rgba(60, 64, 67, 0.15);\n",
              "      fill: #174EA6;\n",
              "    }\n",
              "\n",
              "    .colab-df-buttons div {\n",
              "      margin-bottom: 4px;\n",
              "    }\n",
              "\n",
              "    [theme=dark] .colab-df-convert {\n",
              "      background-color: #3B4455;\n",
              "      fill: #D2E3FC;\n",
              "    }\n",
              "\n",
              "    [theme=dark] .colab-df-convert:hover {\n",
              "      background-color: #434B5C;\n",
              "      box-shadow: 0px 1px 3px 1px rgba(0, 0, 0, 0.15);\n",
              "      filter: drop-shadow(0px 1px 2px rgba(0, 0, 0, 0.3));\n",
              "      fill: #FFFFFF;\n",
              "    }\n",
              "  </style>\n",
              "\n",
              "    <script>\n",
              "      const buttonEl =\n",
              "        document.querySelector('#df-e4c02a32-fc5f-4b94-8bcb-5794246d1ce6 button.colab-df-convert');\n",
              "      buttonEl.style.display =\n",
              "        google.colab.kernel.accessAllowed ? 'block' : 'none';\n",
              "\n",
              "      async function convertToInteractive(key) {\n",
              "        const element = document.querySelector('#df-e4c02a32-fc5f-4b94-8bcb-5794246d1ce6');\n",
              "        const dataTable =\n",
              "          await google.colab.kernel.invokeFunction('convertToInteractive',\n",
              "                                                    [key], {});\n",
              "        if (!dataTable) return;\n",
              "\n",
              "        const docLinkHtml = 'Like what you see? Visit the ' +\n",
              "          '<a target=\"_blank\" href=https://colab.research.google.com/notebooks/data_table.ipynb>data table notebook</a>'\n",
              "          + ' to learn more about interactive tables.';\n",
              "        element.innerHTML = '';\n",
              "        dataTable['output_type'] = 'display_data';\n",
              "        await google.colab.output.renderOutput(dataTable, element);\n",
              "        const docLink = document.createElement('div');\n",
              "        docLink.innerHTML = docLinkHtml;\n",
              "        element.appendChild(docLink);\n",
              "      }\n",
              "    </script>\n",
              "  </div>\n",
              "\n",
              "\n",
              "<div id=\"df-914d4e44-5d72-4f16-a8db-c9910269ab1d\">\n",
              "  <button class=\"colab-df-quickchart\" onclick=\"quickchart('df-914d4e44-5d72-4f16-a8db-c9910269ab1d')\"\n",
              "            title=\"Suggest charts\"\n",
              "            style=\"display:none;\">\n",
              "\n",
              "<svg xmlns=\"http://www.w3.org/2000/svg\" height=\"24px\"viewBox=\"0 0 24 24\"\n",
              "     width=\"24px\">\n",
              "    <g>\n",
              "        <path d=\"M19 3H5c-1.1 0-2 .9-2 2v14c0 1.1.9 2 2 2h14c1.1 0 2-.9 2-2V5c0-1.1-.9-2-2-2zM9 17H7v-7h2v7zm4 0h-2V7h2v10zm4 0h-2v-4h2v4z\"/>\n",
              "    </g>\n",
              "</svg>\n",
              "  </button>\n",
              "\n",
              "<style>\n",
              "  .colab-df-quickchart {\n",
              "      --bg-color: #E8F0FE;\n",
              "      --fill-color: #1967D2;\n",
              "      --hover-bg-color: #E2EBFA;\n",
              "      --hover-fill-color: #174EA6;\n",
              "      --disabled-fill-color: #AAA;\n",
              "      --disabled-bg-color: #DDD;\n",
              "  }\n",
              "\n",
              "  [theme=dark] .colab-df-quickchart {\n",
              "      --bg-color: #3B4455;\n",
              "      --fill-color: #D2E3FC;\n",
              "      --hover-bg-color: #434B5C;\n",
              "      --hover-fill-color: #FFFFFF;\n",
              "      --disabled-bg-color: #3B4455;\n",
              "      --disabled-fill-color: #666;\n",
              "  }\n",
              "\n",
              "  .colab-df-quickchart {\n",
              "    background-color: var(--bg-color);\n",
              "    border: none;\n",
              "    border-radius: 50%;\n",
              "    cursor: pointer;\n",
              "    display: none;\n",
              "    fill: var(--fill-color);\n",
              "    height: 32px;\n",
              "    padding: 0;\n",
              "    width: 32px;\n",
              "  }\n",
              "\n",
              "  .colab-df-quickchart:hover {\n",
              "    background-color: var(--hover-bg-color);\n",
              "    box-shadow: 0 1px 2px rgba(60, 64, 67, 0.3), 0 1px 3px 1px rgba(60, 64, 67, 0.15);\n",
              "    fill: var(--button-hover-fill-color);\n",
              "  }\n",
              "\n",
              "  .colab-df-quickchart-complete:disabled,\n",
              "  .colab-df-quickchart-complete:disabled:hover {\n",
              "    background-color: var(--disabled-bg-color);\n",
              "    fill: var(--disabled-fill-color);\n",
              "    box-shadow: none;\n",
              "  }\n",
              "\n",
              "  .colab-df-spinner {\n",
              "    border: 2px solid var(--fill-color);\n",
              "    border-color: transparent;\n",
              "    border-bottom-color: var(--fill-color);\n",
              "    animation:\n",
              "      spin 1s steps(1) infinite;\n",
              "  }\n",
              "\n",
              "  @keyframes spin {\n",
              "    0% {\n",
              "      border-color: transparent;\n",
              "      border-bottom-color: var(--fill-color);\n",
              "      border-left-color: var(--fill-color);\n",
              "    }\n",
              "    20% {\n",
              "      border-color: transparent;\n",
              "      border-left-color: var(--fill-color);\n",
              "      border-top-color: var(--fill-color);\n",
              "    }\n",
              "    30% {\n",
              "      border-color: transparent;\n",
              "      border-left-color: var(--fill-color);\n",
              "      border-top-color: var(--fill-color);\n",
              "      border-right-color: var(--fill-color);\n",
              "    }\n",
              "    40% {\n",
              "      border-color: transparent;\n",
              "      border-right-color: var(--fill-color);\n",
              "      border-top-color: var(--fill-color);\n",
              "    }\n",
              "    60% {\n",
              "      border-color: transparent;\n",
              "      border-right-color: var(--fill-color);\n",
              "    }\n",
              "    80% {\n",
              "      border-color: transparent;\n",
              "      border-right-color: var(--fill-color);\n",
              "      border-bottom-color: var(--fill-color);\n",
              "    }\n",
              "    90% {\n",
              "      border-color: transparent;\n",
              "      border-bottom-color: var(--fill-color);\n",
              "    }\n",
              "  }\n",
              "</style>\n",
              "\n",
              "  <script>\n",
              "    async function quickchart(key) {\n",
              "      const quickchartButtonEl =\n",
              "        document.querySelector('#' + key + ' button');\n",
              "      quickchartButtonEl.disabled = true;  // To prevent multiple clicks.\n",
              "      quickchartButtonEl.classList.add('colab-df-spinner');\n",
              "      try {\n",
              "        const charts = await google.colab.kernel.invokeFunction(\n",
              "            'suggestCharts', [key], {});\n",
              "      } catch (error) {\n",
              "        console.error('Error during call to suggestCharts:', error);\n",
              "      }\n",
              "      quickchartButtonEl.classList.remove('colab-df-spinner');\n",
              "      quickchartButtonEl.classList.add('colab-df-quickchart-complete');\n",
              "    }\n",
              "    (() => {\n",
              "      let quickchartButtonEl =\n",
              "        document.querySelector('#df-914d4e44-5d72-4f16-a8db-c9910269ab1d button');\n",
              "      quickchartButtonEl.style.display =\n",
              "        google.colab.kernel.accessAllowed ? 'block' : 'none';\n",
              "    })();\n",
              "  </script>\n",
              "</div>\n",
              "    </div>\n",
              "  </div>\n"
            ],
            "text/plain": [
              "                         _id  avg_score\n",
              "0                Block Pizza      16.00\n",
              "1  Gruenebaum'S Bakery &Cafe      15.75\n",
              "2         Delicious On Lydig      12.80"
            ]
          },
          "execution_count": 88,
          "metadata": {},
          "output_type": "execute_result"
        }
      ],
      "source": [
        "## Mejores 3 restaurantes\n",
        "\n",
        "municipio_choice = rd.choice(municipios)\n",
        "cocina_choice = rd.choice(cocina)\n",
        "n = 3\n",
        "\n",
        "print(\"My Borough choice is : \" + municipio_choice)\n",
        "print(\"My Cuisie choice is : \" + cocina_choice)\n",
        "print(\"Queremos el top \" + str(n) + \" de los restaurantes\")\n",
        "\n",
        "result_final = top_restaurant_byCocina_byMunicipio(municipio_choice, cocina_choice, n)\n",
        "\n",
        "df_result = pd.DataFrame(result_final)\n",
        "df_result"
      ]
    }
  ],
  "metadata": {
    "colab": {
      "provenance": []
    },
    "kernelspec": {
      "display_name": "Python 3",
      "name": "python3"
    },
    "language_info": {
      "name": "python"
    }
  },
  "nbformat": 4,
  "nbformat_minor": 0
}
